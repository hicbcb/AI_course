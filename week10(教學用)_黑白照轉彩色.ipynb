{
  "nbformat": 4,
  "nbformat_minor": 0,
  "metadata": {
    "colab": {
      "provenance": [],
      "gpuType": "T4",
      "collapsed_sections": [
        "EKOKoUrlDeg7",
        "9HVTX4D4BWr0"
      ],
      "authorship_tag": "ABX9TyMM3Qgi2Nq5IFb7i63RBimw",
      "include_colab_link": true
    },
    "kernelspec": {
      "name": "python3",
      "display_name": "Python 3"
    },
    "language_info": {
      "name": "python"
    },
    "accelerator": "GPU"
  },
  "cells": [
    {
      "cell_type": "markdown",
      "metadata": {
        "id": "view-in-github",
        "colab_type": "text"
      },
      "source": [
        "<a href=\"https://colab.research.google.com/github/hicbcb/AI_course/blob/main/week10(%E6%95%99%E5%AD%B8%E7%94%A8)_%E9%BB%91%E7%99%BD%E7%85%A7%E8%BD%89%E5%BD%A9%E8%89%B2.ipynb\" target=\"_parent\"><img src=\"https://colab.research.google.com/assets/colab-badge.svg\" alt=\"Open In Colab\"/></a>"
      ]
    },
    {
      "cell_type": "code",
      "execution_count": null,
      "metadata": {
        "id": "Sua3vmF09qaC"
      },
      "outputs": [],
      "source": [
        "import torch\n",
        "import torch.nn as nn\n",
        "import torch.optim as optim\n",
        "from torch.utils.data import DataLoader\n",
        "from torchvision import transforms\n",
        "from torchvision.datasets import OxfordIIITPet\n",
        "from torchvision.utils import make_grid, save_image\n",
        "import matplotlib.pyplot as plt\n",
        "import os\n",
        "import numpy as np\n",
        "\n",
        "from PIL import Image"
      ]
    },
    {
      "cell_type": "code",
      "source": [
        "# 刪除資料夾\n",
        "!rm -rf test_results/\n",
        "!rm -rf colorized_images/\n",
        "!rm -rf images/"
      ],
      "metadata": {
        "id": "sr4nI-xSUiOe"
      },
      "execution_count": null,
      "outputs": []
    },
    {
      "cell_type": "code",
      "source": [
        "import os\n",
        "\n",
        "# 創建保存生成圖片的目錄\n",
        "os.makedirs(\"colorized_images\", exist_ok=True)\n",
        "os.makedirs(\"test_results\", exist_ok=True)"
      ],
      "metadata": {
        "id": "r6Lc6NF2_gLt"
      },
      "execution_count": null,
      "outputs": []
    },
    {
      "cell_type": "code",
      "source": [
        "os.makedirs(\"images\", exist_ok=True)"
      ],
      "metadata": {
        "id": "-VeBG2MAU5Ng"
      },
      "execution_count": null,
      "outputs": []
    },
    {
      "cell_type": "code",
      "source": [
        "# 設置超參數\n",
        "device = torch.device('cuda' if torch.cuda.is_available() else 'cpu')\n",
        "batch_size = 8\n",
        "learning_rate = 2e-4\n",
        "num_epochs = 20"
      ],
      "metadata": {
        "id": "QYhK5ZMc-MR9"
      },
      "execution_count": null,
      "outputs": []
    },
    {
      "cell_type": "code",
      "source": [
        "# 定義生成器\n",
        "class Generator(nn.Module):\n",
        "    def __init__(self):\n",
        "        super(Generator, self).__init__()\n",
        "        # 編碼器層\n",
        "        self.encoder = nn.Sequential(\n",
        "            nn.Conv2d(1, 64, 4, stride=2, padding=1),\n",
        "            nn.LeakyReLU(0.2),\n",
        "            nn.Conv2d(64, 128, 4, stride=2, padding=1),\n",
        "            nn.BatchNorm2d(128),\n",
        "            nn.LeakyReLU(0.2),\n",
        "            # 可以增加更多層\n",
        "        )\n",
        "        # 解碼器層\n",
        "        self.decoder = nn.Sequential(\n",
        "            nn.ConvTranspose2d(128, 64, 4, stride=2, padding=1),\n",
        "            nn.BatchNorm2d(64),\n",
        "            nn.ReLU(),\n",
        "            nn.ConvTranspose2d(64, 3, 4, stride=2, padding=1),\n",
        "            nn.Tanh(),\n",
        "        )\n",
        "\n",
        "    def forward(self, x):\n",
        "        x = self.encoder(x)\n",
        "        x = self.decoder(x)\n",
        "        return x\n",
        "\n"
      ],
      "metadata": {
        "id": "z16niV_H-OR3"
      },
      "execution_count": null,
      "outputs": []
    },
    {
      "cell_type": "code",
      "source": [
        "# 定義判別器\n",
        "class Discriminator(nn.Module):\n",
        "    def __init__(self):\n",
        "        super(Discriminator, self).__init__()\n",
        "        self.model = nn.Sequential(\n",
        "            nn.Conv2d(4, 64, 4, stride=2, padding=1),\n",
        "            nn.LeakyReLU(0.2),\n",
        "            nn.Conv2d(64, 128, 4, stride=2, padding=1),\n",
        "            nn.BatchNorm2d(128),\n",
        "            nn.LeakyReLU(0.2),\n",
        "            # 可以增加更多層\n",
        "            nn.Conv2d(128, 1, 4, padding=1),\n",
        "            nn.Sigmoid(),\n",
        "        )\n",
        "\n",
        "    def forward(self, img_A, img_B):\n",
        "        img_input = torch.cat((img_A, img_B), 1)\n",
        "        return self.model(img_input)"
      ],
      "metadata": {
        "id": "iVaNf5Td-TiX"
      },
      "execution_count": null,
      "outputs": []
    },
    {
      "cell_type": "code",
      "source": [
        "# 載入資料集\n",
        "transform = transforms.Compose([\n",
        "    transforms.Resize((256, 256)),\n",
        "    transforms.ToTensor(),\n",
        "    transforms.Normalize(mean=(0.5,), std=(0.5,))\n",
        "])\n",
        "\n",
        "train_dataset = OxfordIIITPet(root='./data', split='trainval', download=True, transform=transform)\n",
        "train_dataloader = DataLoader(train_dataset, batch_size=batch_size, shuffle=True)\n",
        "\n",
        "test_dataset = OxfordIIITPet(root='./data', split='test', download=True, transform=transform)\n",
        "test_dataloader = DataLoader(test_dataset, batch_size=1, shuffle=False)\n"
      ],
      "metadata": {
        "id": "LsjUeuu4-V_N"
      },
      "execution_count": null,
      "outputs": []
    },
    {
      "cell_type": "code",
      "source": [
        "# 初始化模型\n",
        "generator = Generator().to(device)\n",
        "discriminator = Discriminator().to(device)"
      ],
      "metadata": {
        "id": "Xy_OU25f-bdF"
      },
      "execution_count": null,
      "outputs": []
    },
    {
      "cell_type": "code",
      "source": [
        "# 定義優化器和損失函數\n",
        "g_optimizer = optim.Adam(generator.parameters(), lr=learning_rate)\n",
        "d_optimizer = optim.Adam(discriminator.parameters(), lr=learning_rate)\n",
        "criterion_GAN = nn.BCELoss()\n",
        "criterion_pixelwise = nn.L1Loss()"
      ],
      "metadata": {
        "id": "ywZYqo6L-gzv"
      },
      "execution_count": null,
      "outputs": []
    },
    {
      "cell_type": "markdown",
      "source": [
        "### 只生成結果"
      ],
      "metadata": {
        "id": "EKOKoUrlDeg7"
      }
    },
    {
      "cell_type": "code",
      "source": [
        "# 訓練模型\n",
        "for epoch in range(num_epochs):\n",
        "    for i, (imgs, _) in enumerate(train_dataloader):\n",
        "        gray_imgs = imgs[:, :1, :, :].to(device)  # 灰階圖像\n",
        "        color_imgs = imgs.to(device)              # 彩色圖像\n",
        "\n",
        "        # 訓練生成器\n",
        "        fake_color = generator(gray_imgs)\n",
        "        g_optimizer.zero_grad()\n",
        "\n",
        "        pred_fake = discriminator(gray_imgs, fake_color)\n",
        "        loss_GAN = criterion_GAN(pred_fake, torch.ones_like(pred_fake))\n",
        "        loss_pixel = criterion_pixelwise(fake_color, color_imgs)\n",
        "\n",
        "        g_loss = loss_GAN + 100 * loss_pixel\n",
        "        g_loss.backward()\n",
        "        g_optimizer.step()\n",
        "\n",
        "        # 訓練判別器\n",
        "        d_optimizer.zero_grad()\n",
        "\n",
        "        pred_real = discriminator(gray_imgs, color_imgs)\n",
        "        loss_real = criterion_GAN(pred_real, torch.ones_like(pred_real))\n",
        "\n",
        "        pred_fake = discriminator(gray_imgs, fake_color.detach())\n",
        "        loss_fake = criterion_GAN(pred_fake, torch.zeros_like(pred_fake))\n",
        "\n",
        "        d_loss = (loss_real + loss_fake) / 2\n",
        "        d_loss.backward()\n",
        "        d_optimizer.step()\n",
        "\n",
        "    print(f\"Epoch [{epoch+1}/{num_epochs}] Generator Loss: {g_loss.item():.4f}, Discriminator Loss: {d_loss.item():.4f}\")\n",
        "\n",
        "    # 保存生成的圖片\n",
        "    save_image(fake_color, f\"colorized_images/epoch_{epoch+1}.png\", normalize=True)"
      ],
      "metadata": {
        "colab": {
          "base_uri": "https://localhost:8080/",
          "height": 721
        },
        "id": "-ATx114O-thV",
        "outputId": "c1a6400a-ec40-470d-8572-64a3ec5cdb14"
      },
      "execution_count": null,
      "outputs": [
        {
          "output_type": "stream",
          "name": "stdout",
          "text": [
            "Epoch [1/100] Generator Loss: 18.0594, Discriminator Loss: 0.2018\n",
            "Epoch [2/100] Generator Loss: 19.0097, Discriminator Loss: 0.2038\n",
            "Epoch [3/100] Generator Loss: 17.7795, Discriminator Loss: 0.1470\n",
            "Epoch [4/100] Generator Loss: 18.6045, Discriminator Loss: 0.2541\n",
            "Epoch [5/100] Generator Loss: 17.0424, Discriminator Loss: 0.2798\n",
            "Epoch [6/100] Generator Loss: 17.1462, Discriminator Loss: 0.2292\n",
            "Epoch [7/100] Generator Loss: 15.4228, Discriminator Loss: 0.1239\n",
            "Epoch [8/100] Generator Loss: 17.7591, Discriminator Loss: 0.1299\n",
            "Epoch [9/100] Generator Loss: 29.9288, Discriminator Loss: 0.1334\n",
            "Epoch [10/100] Generator Loss: 19.4556, Discriminator Loss: 0.0547\n",
            "Epoch [11/100] Generator Loss: 23.6850, Discriminator Loss: 0.0474\n",
            "Epoch [12/100] Generator Loss: 26.4254, Discriminator Loss: 0.0477\n",
            "Epoch [13/100] Generator Loss: 19.3647, Discriminator Loss: 0.0576\n",
            "Epoch [14/100] Generator Loss: 21.8561, Discriminator Loss: 0.0243\n",
            "Epoch [15/100] Generator Loss: 23.4359, Discriminator Loss: 0.0512\n",
            "Epoch [16/100] Generator Loss: 21.1250, Discriminator Loss: 0.0231\n",
            "Epoch [17/100] Generator Loss: 17.7926, Discriminator Loss: 0.0439\n",
            "Epoch [18/100] Generator Loss: 24.5602, Discriminator Loss: 0.0105\n",
            "Epoch [19/100] Generator Loss: 20.4345, Discriminator Loss: 0.0130\n",
            "Epoch [20/100] Generator Loss: 21.0017, Discriminator Loss: 0.0424\n",
            "Epoch [21/100] Generator Loss: 26.3227, Discriminator Loss: 0.0523\n"
          ]
        },
        {
          "output_type": "error",
          "ename": "KeyboardInterrupt",
          "evalue": "",
          "traceback": [
            "\u001b[0;31m---------------------------------------------------------------------------\u001b[0m",
            "\u001b[0;31mKeyboardInterrupt\u001b[0m                         Traceback (most recent call last)",
            "\u001b[0;32m<ipython-input-11-e47c704bd3f5>\u001b[0m in \u001b[0;36m<cell line: 2>\u001b[0;34m()\u001b[0m\n\u001b[1;32m      1\u001b[0m \u001b[0;31m# 訓練模型\u001b[0m\u001b[0;34m\u001b[0m\u001b[0;34m\u001b[0m\u001b[0m\n\u001b[1;32m      2\u001b[0m \u001b[0;32mfor\u001b[0m \u001b[0mepoch\u001b[0m \u001b[0;32min\u001b[0m \u001b[0mrange\u001b[0m\u001b[0;34m(\u001b[0m\u001b[0mnum_epochs\u001b[0m\u001b[0;34m)\u001b[0m\u001b[0;34m:\u001b[0m\u001b[0;34m\u001b[0m\u001b[0;34m\u001b[0m\u001b[0m\n\u001b[0;32m----> 3\u001b[0;31m     \u001b[0;32mfor\u001b[0m \u001b[0mi\u001b[0m\u001b[0;34m,\u001b[0m \u001b[0;34m(\u001b[0m\u001b[0mimgs\u001b[0m\u001b[0;34m,\u001b[0m \u001b[0m_\u001b[0m\u001b[0;34m)\u001b[0m \u001b[0;32min\u001b[0m \u001b[0menumerate\u001b[0m\u001b[0;34m(\u001b[0m\u001b[0mtrain_dataloader\u001b[0m\u001b[0;34m)\u001b[0m\u001b[0;34m:\u001b[0m\u001b[0;34m\u001b[0m\u001b[0;34m\u001b[0m\u001b[0m\n\u001b[0m\u001b[1;32m      4\u001b[0m         \u001b[0mgray_imgs\u001b[0m \u001b[0;34m=\u001b[0m \u001b[0mimgs\u001b[0m\u001b[0;34m[\u001b[0m\u001b[0;34m:\u001b[0m\u001b[0;34m,\u001b[0m \u001b[0;34m:\u001b[0m\u001b[0;36m1\u001b[0m\u001b[0;34m,\u001b[0m \u001b[0;34m:\u001b[0m\u001b[0;34m,\u001b[0m \u001b[0;34m:\u001b[0m\u001b[0;34m]\u001b[0m\u001b[0;34m.\u001b[0m\u001b[0mto\u001b[0m\u001b[0;34m(\u001b[0m\u001b[0mdevice\u001b[0m\u001b[0;34m)\u001b[0m  \u001b[0;31m# 灰階圖像\u001b[0m\u001b[0;34m\u001b[0m\u001b[0;34m\u001b[0m\u001b[0m\n\u001b[1;32m      5\u001b[0m         \u001b[0mcolor_imgs\u001b[0m \u001b[0;34m=\u001b[0m \u001b[0mimgs\u001b[0m\u001b[0;34m.\u001b[0m\u001b[0mto\u001b[0m\u001b[0;34m(\u001b[0m\u001b[0mdevice\u001b[0m\u001b[0;34m)\u001b[0m              \u001b[0;31m# 彩色圖像\u001b[0m\u001b[0;34m\u001b[0m\u001b[0;34m\u001b[0m\u001b[0m\n",
            "\u001b[0;32m/usr/local/lib/python3.10/dist-packages/torch/utils/data/dataloader.py\u001b[0m in \u001b[0;36m__next__\u001b[0;34m(self)\u001b[0m\n\u001b[1;32m    629\u001b[0m                 \u001b[0;31m# TODO(https://github.com/pytorch/pytorch/issues/76750)\u001b[0m\u001b[0;34m\u001b[0m\u001b[0;34m\u001b[0m\u001b[0m\n\u001b[1;32m    630\u001b[0m                 \u001b[0mself\u001b[0m\u001b[0;34m.\u001b[0m\u001b[0m_reset\u001b[0m\u001b[0;34m(\u001b[0m\u001b[0;34m)\u001b[0m  \u001b[0;31m# type: ignore[call-arg]\u001b[0m\u001b[0;34m\u001b[0m\u001b[0;34m\u001b[0m\u001b[0m\n\u001b[0;32m--> 631\u001b[0;31m             \u001b[0mdata\u001b[0m \u001b[0;34m=\u001b[0m \u001b[0mself\u001b[0m\u001b[0;34m.\u001b[0m\u001b[0m_next_data\u001b[0m\u001b[0;34m(\u001b[0m\u001b[0;34m)\u001b[0m\u001b[0;34m\u001b[0m\u001b[0;34m\u001b[0m\u001b[0m\n\u001b[0m\u001b[1;32m    632\u001b[0m             \u001b[0mself\u001b[0m\u001b[0;34m.\u001b[0m\u001b[0m_num_yielded\u001b[0m \u001b[0;34m+=\u001b[0m \u001b[0;36m1\u001b[0m\u001b[0;34m\u001b[0m\u001b[0;34m\u001b[0m\u001b[0m\n\u001b[1;32m    633\u001b[0m             \u001b[0;32mif\u001b[0m \u001b[0mself\u001b[0m\u001b[0;34m.\u001b[0m\u001b[0m_dataset_kind\u001b[0m \u001b[0;34m==\u001b[0m \u001b[0m_DatasetKind\u001b[0m\u001b[0;34m.\u001b[0m\u001b[0mIterable\u001b[0m \u001b[0;32mand\u001b[0m\u001b[0;31m \u001b[0m\u001b[0;31m\\\u001b[0m\u001b[0;34m\u001b[0m\u001b[0;34m\u001b[0m\u001b[0m\n",
            "\u001b[0;32m/usr/local/lib/python3.10/dist-packages/torch/utils/data/dataloader.py\u001b[0m in \u001b[0;36m_next_data\u001b[0;34m(self)\u001b[0m\n\u001b[1;32m    673\u001b[0m     \u001b[0;32mdef\u001b[0m \u001b[0m_next_data\u001b[0m\u001b[0;34m(\u001b[0m\u001b[0mself\u001b[0m\u001b[0;34m)\u001b[0m\u001b[0;34m:\u001b[0m\u001b[0;34m\u001b[0m\u001b[0;34m\u001b[0m\u001b[0m\n\u001b[1;32m    674\u001b[0m         \u001b[0mindex\u001b[0m \u001b[0;34m=\u001b[0m \u001b[0mself\u001b[0m\u001b[0;34m.\u001b[0m\u001b[0m_next_index\u001b[0m\u001b[0;34m(\u001b[0m\u001b[0;34m)\u001b[0m  \u001b[0;31m# may raise StopIteration\u001b[0m\u001b[0;34m\u001b[0m\u001b[0;34m\u001b[0m\u001b[0m\n\u001b[0;32m--> 675\u001b[0;31m         \u001b[0mdata\u001b[0m \u001b[0;34m=\u001b[0m \u001b[0mself\u001b[0m\u001b[0;34m.\u001b[0m\u001b[0m_dataset_fetcher\u001b[0m\u001b[0;34m.\u001b[0m\u001b[0mfetch\u001b[0m\u001b[0;34m(\u001b[0m\u001b[0mindex\u001b[0m\u001b[0;34m)\u001b[0m  \u001b[0;31m# may raise StopIteration\u001b[0m\u001b[0;34m\u001b[0m\u001b[0;34m\u001b[0m\u001b[0m\n\u001b[0m\u001b[1;32m    676\u001b[0m         \u001b[0;32mif\u001b[0m \u001b[0mself\u001b[0m\u001b[0;34m.\u001b[0m\u001b[0m_pin_memory\u001b[0m\u001b[0;34m:\u001b[0m\u001b[0;34m\u001b[0m\u001b[0;34m\u001b[0m\u001b[0m\n\u001b[1;32m    677\u001b[0m             \u001b[0mdata\u001b[0m \u001b[0;34m=\u001b[0m \u001b[0m_utils\u001b[0m\u001b[0;34m.\u001b[0m\u001b[0mpin_memory\u001b[0m\u001b[0;34m.\u001b[0m\u001b[0mpin_memory\u001b[0m\u001b[0;34m(\u001b[0m\u001b[0mdata\u001b[0m\u001b[0;34m,\u001b[0m \u001b[0mself\u001b[0m\u001b[0;34m.\u001b[0m\u001b[0m_pin_memory_device\u001b[0m\u001b[0;34m)\u001b[0m\u001b[0;34m\u001b[0m\u001b[0;34m\u001b[0m\u001b[0m\n",
            "\u001b[0;32m/usr/local/lib/python3.10/dist-packages/torch/utils/data/_utils/fetch.py\u001b[0m in \u001b[0;36mfetch\u001b[0;34m(self, possibly_batched_index)\u001b[0m\n\u001b[1;32m     49\u001b[0m                 \u001b[0mdata\u001b[0m \u001b[0;34m=\u001b[0m \u001b[0mself\u001b[0m\u001b[0;34m.\u001b[0m\u001b[0mdataset\u001b[0m\u001b[0;34m.\u001b[0m\u001b[0m__getitems__\u001b[0m\u001b[0;34m(\u001b[0m\u001b[0mpossibly_batched_index\u001b[0m\u001b[0;34m)\u001b[0m\u001b[0;34m\u001b[0m\u001b[0;34m\u001b[0m\u001b[0m\n\u001b[1;32m     50\u001b[0m             \u001b[0;32melse\u001b[0m\u001b[0;34m:\u001b[0m\u001b[0;34m\u001b[0m\u001b[0;34m\u001b[0m\u001b[0m\n\u001b[0;32m---> 51\u001b[0;31m                 \u001b[0mdata\u001b[0m \u001b[0;34m=\u001b[0m \u001b[0;34m[\u001b[0m\u001b[0mself\u001b[0m\u001b[0;34m.\u001b[0m\u001b[0mdataset\u001b[0m\u001b[0;34m[\u001b[0m\u001b[0midx\u001b[0m\u001b[0;34m]\u001b[0m \u001b[0;32mfor\u001b[0m \u001b[0midx\u001b[0m \u001b[0;32min\u001b[0m \u001b[0mpossibly_batched_index\u001b[0m\u001b[0;34m]\u001b[0m\u001b[0;34m\u001b[0m\u001b[0;34m\u001b[0m\u001b[0m\n\u001b[0m\u001b[1;32m     52\u001b[0m         \u001b[0;32melse\u001b[0m\u001b[0;34m:\u001b[0m\u001b[0;34m\u001b[0m\u001b[0;34m\u001b[0m\u001b[0m\n\u001b[1;32m     53\u001b[0m             \u001b[0mdata\u001b[0m \u001b[0;34m=\u001b[0m \u001b[0mself\u001b[0m\u001b[0;34m.\u001b[0m\u001b[0mdataset\u001b[0m\u001b[0;34m[\u001b[0m\u001b[0mpossibly_batched_index\u001b[0m\u001b[0;34m]\u001b[0m\u001b[0;34m\u001b[0m\u001b[0;34m\u001b[0m\u001b[0m\n",
            "\u001b[0;32m/usr/local/lib/python3.10/dist-packages/torch/utils/data/_utils/fetch.py\u001b[0m in \u001b[0;36m<listcomp>\u001b[0;34m(.0)\u001b[0m\n\u001b[1;32m     49\u001b[0m                 \u001b[0mdata\u001b[0m \u001b[0;34m=\u001b[0m \u001b[0mself\u001b[0m\u001b[0;34m.\u001b[0m\u001b[0mdataset\u001b[0m\u001b[0;34m.\u001b[0m\u001b[0m__getitems__\u001b[0m\u001b[0;34m(\u001b[0m\u001b[0mpossibly_batched_index\u001b[0m\u001b[0;34m)\u001b[0m\u001b[0;34m\u001b[0m\u001b[0;34m\u001b[0m\u001b[0m\n\u001b[1;32m     50\u001b[0m             \u001b[0;32melse\u001b[0m\u001b[0;34m:\u001b[0m\u001b[0;34m\u001b[0m\u001b[0;34m\u001b[0m\u001b[0m\n\u001b[0;32m---> 51\u001b[0;31m                 \u001b[0mdata\u001b[0m \u001b[0;34m=\u001b[0m \u001b[0;34m[\u001b[0m\u001b[0mself\u001b[0m\u001b[0;34m.\u001b[0m\u001b[0mdataset\u001b[0m\u001b[0;34m[\u001b[0m\u001b[0midx\u001b[0m\u001b[0;34m]\u001b[0m \u001b[0;32mfor\u001b[0m \u001b[0midx\u001b[0m \u001b[0;32min\u001b[0m \u001b[0mpossibly_batched_index\u001b[0m\u001b[0;34m]\u001b[0m\u001b[0;34m\u001b[0m\u001b[0;34m\u001b[0m\u001b[0m\n\u001b[0m\u001b[1;32m     52\u001b[0m         \u001b[0;32melse\u001b[0m\u001b[0;34m:\u001b[0m\u001b[0;34m\u001b[0m\u001b[0;34m\u001b[0m\u001b[0m\n\u001b[1;32m     53\u001b[0m             \u001b[0mdata\u001b[0m \u001b[0;34m=\u001b[0m \u001b[0mself\u001b[0m\u001b[0;34m.\u001b[0m\u001b[0mdataset\u001b[0m\u001b[0;34m[\u001b[0m\u001b[0mpossibly_batched_index\u001b[0m\u001b[0;34m]\u001b[0m\u001b[0;34m\u001b[0m\u001b[0;34m\u001b[0m\u001b[0m\n",
            "\u001b[0;32m/usr/local/lib/python3.10/dist-packages/torchvision/datasets/oxford_iiit_pet.py\u001b[0m in \u001b[0;36m__getitem__\u001b[0;34m(self, idx)\u001b[0m\n\u001b[1;32m    107\u001b[0m \u001b[0;34m\u001b[0m\u001b[0m\n\u001b[1;32m    108\u001b[0m         \u001b[0;32mif\u001b[0m \u001b[0mself\u001b[0m\u001b[0;34m.\u001b[0m\u001b[0mtransforms\u001b[0m\u001b[0;34m:\u001b[0m\u001b[0;34m\u001b[0m\u001b[0;34m\u001b[0m\u001b[0m\n\u001b[0;32m--> 109\u001b[0;31m             \u001b[0mimage\u001b[0m\u001b[0;34m,\u001b[0m \u001b[0mtarget\u001b[0m \u001b[0;34m=\u001b[0m \u001b[0mself\u001b[0m\u001b[0;34m.\u001b[0m\u001b[0mtransforms\u001b[0m\u001b[0;34m(\u001b[0m\u001b[0mimage\u001b[0m\u001b[0;34m,\u001b[0m \u001b[0mtarget\u001b[0m\u001b[0;34m)\u001b[0m\u001b[0;34m\u001b[0m\u001b[0;34m\u001b[0m\u001b[0m\n\u001b[0m\u001b[1;32m    110\u001b[0m \u001b[0;34m\u001b[0m\u001b[0m\n\u001b[1;32m    111\u001b[0m         \u001b[0;32mreturn\u001b[0m \u001b[0mimage\u001b[0m\u001b[0;34m,\u001b[0m \u001b[0mtarget\u001b[0m\u001b[0;34m\u001b[0m\u001b[0;34m\u001b[0m\u001b[0m\n",
            "\u001b[0;32m/usr/local/lib/python3.10/dist-packages/torchvision/datasets/vision.py\u001b[0m in \u001b[0;36m__call__\u001b[0;34m(self, input, target)\u001b[0m\n\u001b[1;32m     93\u001b[0m     \u001b[0;32mdef\u001b[0m \u001b[0m__call__\u001b[0m\u001b[0;34m(\u001b[0m\u001b[0mself\u001b[0m\u001b[0;34m,\u001b[0m \u001b[0minput\u001b[0m\u001b[0;34m:\u001b[0m \u001b[0mAny\u001b[0m\u001b[0;34m,\u001b[0m \u001b[0mtarget\u001b[0m\u001b[0;34m:\u001b[0m \u001b[0mAny\u001b[0m\u001b[0;34m)\u001b[0m \u001b[0;34m->\u001b[0m \u001b[0mTuple\u001b[0m\u001b[0;34m[\u001b[0m\u001b[0mAny\u001b[0m\u001b[0;34m,\u001b[0m \u001b[0mAny\u001b[0m\u001b[0;34m]\u001b[0m\u001b[0;34m:\u001b[0m\u001b[0;34m\u001b[0m\u001b[0;34m\u001b[0m\u001b[0m\n\u001b[1;32m     94\u001b[0m         \u001b[0;32mif\u001b[0m \u001b[0mself\u001b[0m\u001b[0;34m.\u001b[0m\u001b[0mtransform\u001b[0m \u001b[0;32mis\u001b[0m \u001b[0;32mnot\u001b[0m \u001b[0;32mNone\u001b[0m\u001b[0;34m:\u001b[0m\u001b[0;34m\u001b[0m\u001b[0;34m\u001b[0m\u001b[0m\n\u001b[0;32m---> 95\u001b[0;31m             \u001b[0minput\u001b[0m \u001b[0;34m=\u001b[0m \u001b[0mself\u001b[0m\u001b[0;34m.\u001b[0m\u001b[0mtransform\u001b[0m\u001b[0;34m(\u001b[0m\u001b[0minput\u001b[0m\u001b[0;34m)\u001b[0m\u001b[0;34m\u001b[0m\u001b[0;34m\u001b[0m\u001b[0m\n\u001b[0m\u001b[1;32m     96\u001b[0m         \u001b[0;32mif\u001b[0m \u001b[0mself\u001b[0m\u001b[0;34m.\u001b[0m\u001b[0mtarget_transform\u001b[0m \u001b[0;32mis\u001b[0m \u001b[0;32mnot\u001b[0m \u001b[0;32mNone\u001b[0m\u001b[0;34m:\u001b[0m\u001b[0;34m\u001b[0m\u001b[0;34m\u001b[0m\u001b[0m\n\u001b[1;32m     97\u001b[0m             \u001b[0mtarget\u001b[0m \u001b[0;34m=\u001b[0m \u001b[0mself\u001b[0m\u001b[0;34m.\u001b[0m\u001b[0mtarget_transform\u001b[0m\u001b[0;34m(\u001b[0m\u001b[0mtarget\u001b[0m\u001b[0;34m)\u001b[0m\u001b[0;34m\u001b[0m\u001b[0;34m\u001b[0m\u001b[0m\n",
            "\u001b[0;32m/usr/local/lib/python3.10/dist-packages/torchvision/transforms/transforms.py\u001b[0m in \u001b[0;36m__call__\u001b[0;34m(self, img)\u001b[0m\n\u001b[1;32m     93\u001b[0m     \u001b[0;32mdef\u001b[0m \u001b[0m__call__\u001b[0m\u001b[0;34m(\u001b[0m\u001b[0mself\u001b[0m\u001b[0;34m,\u001b[0m \u001b[0mimg\u001b[0m\u001b[0;34m)\u001b[0m\u001b[0;34m:\u001b[0m\u001b[0;34m\u001b[0m\u001b[0;34m\u001b[0m\u001b[0m\n\u001b[1;32m     94\u001b[0m         \u001b[0;32mfor\u001b[0m \u001b[0mt\u001b[0m \u001b[0;32min\u001b[0m \u001b[0mself\u001b[0m\u001b[0;34m.\u001b[0m\u001b[0mtransforms\u001b[0m\u001b[0;34m:\u001b[0m\u001b[0;34m\u001b[0m\u001b[0;34m\u001b[0m\u001b[0m\n\u001b[0;32m---> 95\u001b[0;31m             \u001b[0mimg\u001b[0m \u001b[0;34m=\u001b[0m \u001b[0mt\u001b[0m\u001b[0;34m(\u001b[0m\u001b[0mimg\u001b[0m\u001b[0;34m)\u001b[0m\u001b[0;34m\u001b[0m\u001b[0;34m\u001b[0m\u001b[0m\n\u001b[0m\u001b[1;32m     96\u001b[0m         \u001b[0;32mreturn\u001b[0m \u001b[0mimg\u001b[0m\u001b[0;34m\u001b[0m\u001b[0;34m\u001b[0m\u001b[0m\n\u001b[1;32m     97\u001b[0m \u001b[0;34m\u001b[0m\u001b[0m\n",
            "\u001b[0;32m/usr/local/lib/python3.10/dist-packages/torch/nn/modules/module.py\u001b[0m in \u001b[0;36m_wrapped_call_impl\u001b[0;34m(self, *args, **kwargs)\u001b[0m\n\u001b[1;32m   1530\u001b[0m             \u001b[0;32mreturn\u001b[0m \u001b[0mself\u001b[0m\u001b[0;34m.\u001b[0m\u001b[0m_compiled_call_impl\u001b[0m\u001b[0;34m(\u001b[0m\u001b[0;34m*\u001b[0m\u001b[0margs\u001b[0m\u001b[0;34m,\u001b[0m \u001b[0;34m**\u001b[0m\u001b[0mkwargs\u001b[0m\u001b[0;34m)\u001b[0m  \u001b[0;31m# type: ignore[misc]\u001b[0m\u001b[0;34m\u001b[0m\u001b[0;34m\u001b[0m\u001b[0m\n\u001b[1;32m   1531\u001b[0m         \u001b[0;32melse\u001b[0m\u001b[0;34m:\u001b[0m\u001b[0;34m\u001b[0m\u001b[0;34m\u001b[0m\u001b[0m\n\u001b[0;32m-> 1532\u001b[0;31m             \u001b[0;32mreturn\u001b[0m \u001b[0mself\u001b[0m\u001b[0;34m.\u001b[0m\u001b[0m_call_impl\u001b[0m\u001b[0;34m(\u001b[0m\u001b[0;34m*\u001b[0m\u001b[0margs\u001b[0m\u001b[0;34m,\u001b[0m \u001b[0;34m**\u001b[0m\u001b[0mkwargs\u001b[0m\u001b[0;34m)\u001b[0m\u001b[0;34m\u001b[0m\u001b[0;34m\u001b[0m\u001b[0m\n\u001b[0m\u001b[1;32m   1533\u001b[0m \u001b[0;34m\u001b[0m\u001b[0m\n\u001b[1;32m   1534\u001b[0m     \u001b[0;32mdef\u001b[0m \u001b[0m_call_impl\u001b[0m\u001b[0;34m(\u001b[0m\u001b[0mself\u001b[0m\u001b[0;34m,\u001b[0m \u001b[0;34m*\u001b[0m\u001b[0margs\u001b[0m\u001b[0;34m,\u001b[0m \u001b[0;34m**\u001b[0m\u001b[0mkwargs\u001b[0m\u001b[0;34m)\u001b[0m\u001b[0;34m:\u001b[0m\u001b[0;34m\u001b[0m\u001b[0;34m\u001b[0m\u001b[0m\n",
            "\u001b[0;32m/usr/local/lib/python3.10/dist-packages/torch/nn/modules/module.py\u001b[0m in \u001b[0;36m_call_impl\u001b[0;34m(self, *args, **kwargs)\u001b[0m\n\u001b[1;32m   1539\u001b[0m                 \u001b[0;32mor\u001b[0m \u001b[0m_global_backward_pre_hooks\u001b[0m \u001b[0;32mor\u001b[0m \u001b[0m_global_backward_hooks\u001b[0m\u001b[0;34m\u001b[0m\u001b[0;34m\u001b[0m\u001b[0m\n\u001b[1;32m   1540\u001b[0m                 or _global_forward_hooks or _global_forward_pre_hooks):\n\u001b[0;32m-> 1541\u001b[0;31m             \u001b[0;32mreturn\u001b[0m \u001b[0mforward_call\u001b[0m\u001b[0;34m(\u001b[0m\u001b[0;34m*\u001b[0m\u001b[0margs\u001b[0m\u001b[0;34m,\u001b[0m \u001b[0;34m**\u001b[0m\u001b[0mkwargs\u001b[0m\u001b[0;34m)\u001b[0m\u001b[0;34m\u001b[0m\u001b[0;34m\u001b[0m\u001b[0m\n\u001b[0m\u001b[1;32m   1542\u001b[0m \u001b[0;34m\u001b[0m\u001b[0m\n\u001b[1;32m   1543\u001b[0m         \u001b[0;32mtry\u001b[0m\u001b[0;34m:\u001b[0m\u001b[0;34m\u001b[0m\u001b[0;34m\u001b[0m\u001b[0m\n",
            "\u001b[0;32m/usr/local/lib/python3.10/dist-packages/torchvision/transforms/transforms.py\u001b[0m in \u001b[0;36mforward\u001b[0;34m(self, img)\u001b[0m\n\u001b[1;32m    352\u001b[0m             \u001b[0mPIL\u001b[0m \u001b[0mImage\u001b[0m \u001b[0;32mor\u001b[0m \u001b[0mTensor\u001b[0m\u001b[0;34m:\u001b[0m \u001b[0mRescaled\u001b[0m \u001b[0mimage\u001b[0m\u001b[0;34m.\u001b[0m\u001b[0;34m\u001b[0m\u001b[0;34m\u001b[0m\u001b[0m\n\u001b[1;32m    353\u001b[0m         \"\"\"\n\u001b[0;32m--> 354\u001b[0;31m         \u001b[0;32mreturn\u001b[0m \u001b[0mF\u001b[0m\u001b[0;34m.\u001b[0m\u001b[0mresize\u001b[0m\u001b[0;34m(\u001b[0m\u001b[0mimg\u001b[0m\u001b[0;34m,\u001b[0m \u001b[0mself\u001b[0m\u001b[0;34m.\u001b[0m\u001b[0msize\u001b[0m\u001b[0;34m,\u001b[0m \u001b[0mself\u001b[0m\u001b[0;34m.\u001b[0m\u001b[0minterpolation\u001b[0m\u001b[0;34m,\u001b[0m \u001b[0mself\u001b[0m\u001b[0;34m.\u001b[0m\u001b[0mmax_size\u001b[0m\u001b[0;34m,\u001b[0m \u001b[0mself\u001b[0m\u001b[0;34m.\u001b[0m\u001b[0mantialias\u001b[0m\u001b[0;34m)\u001b[0m\u001b[0;34m\u001b[0m\u001b[0;34m\u001b[0m\u001b[0m\n\u001b[0m\u001b[1;32m    355\u001b[0m \u001b[0;34m\u001b[0m\u001b[0m\n\u001b[1;32m    356\u001b[0m     \u001b[0;32mdef\u001b[0m \u001b[0m__repr__\u001b[0m\u001b[0;34m(\u001b[0m\u001b[0mself\u001b[0m\u001b[0;34m)\u001b[0m \u001b[0;34m->\u001b[0m \u001b[0mstr\u001b[0m\u001b[0;34m:\u001b[0m\u001b[0;34m\u001b[0m\u001b[0;34m\u001b[0m\u001b[0m\n",
            "\u001b[0;32m/usr/local/lib/python3.10/dist-packages/torchvision/transforms/functional.py\u001b[0m in \u001b[0;36mresize\u001b[0;34m(img, size, interpolation, max_size, antialias)\u001b[0m\n\u001b[1;32m    466\u001b[0m             \u001b[0mwarnings\u001b[0m\u001b[0;34m.\u001b[0m\u001b[0mwarn\u001b[0m\u001b[0;34m(\u001b[0m\u001b[0;34m\"Anti-alias option is always applied for PIL Image input. Argument antialias is ignored.\"\u001b[0m\u001b[0;34m)\u001b[0m\u001b[0;34m\u001b[0m\u001b[0;34m\u001b[0m\u001b[0m\n\u001b[1;32m    467\u001b[0m         \u001b[0mpil_interpolation\u001b[0m \u001b[0;34m=\u001b[0m \u001b[0mpil_modes_mapping\u001b[0m\u001b[0;34m[\u001b[0m\u001b[0minterpolation\u001b[0m\u001b[0;34m]\u001b[0m\u001b[0;34m\u001b[0m\u001b[0;34m\u001b[0m\u001b[0m\n\u001b[0;32m--> 468\u001b[0;31m         \u001b[0;32mreturn\u001b[0m \u001b[0mF_pil\u001b[0m\u001b[0;34m.\u001b[0m\u001b[0mresize\u001b[0m\u001b[0;34m(\u001b[0m\u001b[0mimg\u001b[0m\u001b[0;34m,\u001b[0m \u001b[0msize\u001b[0m\u001b[0;34m=\u001b[0m\u001b[0moutput_size\u001b[0m\u001b[0;34m,\u001b[0m \u001b[0minterpolation\u001b[0m\u001b[0;34m=\u001b[0m\u001b[0mpil_interpolation\u001b[0m\u001b[0;34m)\u001b[0m\u001b[0;34m\u001b[0m\u001b[0;34m\u001b[0m\u001b[0m\n\u001b[0m\u001b[1;32m    469\u001b[0m \u001b[0;34m\u001b[0m\u001b[0m\n\u001b[1;32m    470\u001b[0m     \u001b[0;32mreturn\u001b[0m \u001b[0mF_t\u001b[0m\u001b[0;34m.\u001b[0m\u001b[0mresize\u001b[0m\u001b[0;34m(\u001b[0m\u001b[0mimg\u001b[0m\u001b[0;34m,\u001b[0m \u001b[0msize\u001b[0m\u001b[0;34m=\u001b[0m\u001b[0moutput_size\u001b[0m\u001b[0;34m,\u001b[0m \u001b[0minterpolation\u001b[0m\u001b[0;34m=\u001b[0m\u001b[0minterpolation\u001b[0m\u001b[0;34m.\u001b[0m\u001b[0mvalue\u001b[0m\u001b[0;34m,\u001b[0m \u001b[0mantialias\u001b[0m\u001b[0;34m=\u001b[0m\u001b[0mantialias\u001b[0m\u001b[0;34m)\u001b[0m\u001b[0;34m\u001b[0m\u001b[0;34m\u001b[0m\u001b[0m\n",
            "\u001b[0;32m/usr/local/lib/python3.10/dist-packages/torchvision/transforms/_functional_pil.py\u001b[0m in \u001b[0;36mresize\u001b[0;34m(img, size, interpolation)\u001b[0m\n\u001b[1;32m    248\u001b[0m         \u001b[0;32mraise\u001b[0m \u001b[0mTypeError\u001b[0m\u001b[0;34m(\u001b[0m\u001b[0;34mf\"Got inappropriate size arg: {size}\"\u001b[0m\u001b[0;34m)\u001b[0m\u001b[0;34m\u001b[0m\u001b[0;34m\u001b[0m\u001b[0m\n\u001b[1;32m    249\u001b[0m \u001b[0;34m\u001b[0m\u001b[0m\n\u001b[0;32m--> 250\u001b[0;31m     \u001b[0;32mreturn\u001b[0m \u001b[0mimg\u001b[0m\u001b[0;34m.\u001b[0m\u001b[0mresize\u001b[0m\u001b[0;34m(\u001b[0m\u001b[0mtuple\u001b[0m\u001b[0;34m(\u001b[0m\u001b[0msize\u001b[0m\u001b[0;34m[\u001b[0m\u001b[0;34m:\u001b[0m\u001b[0;34m:\u001b[0m\u001b[0;34m-\u001b[0m\u001b[0;36m1\u001b[0m\u001b[0;34m]\u001b[0m\u001b[0;34m)\u001b[0m\u001b[0;34m,\u001b[0m \u001b[0minterpolation\u001b[0m\u001b[0;34m)\u001b[0m\u001b[0;34m\u001b[0m\u001b[0;34m\u001b[0m\u001b[0m\n\u001b[0m\u001b[1;32m    251\u001b[0m \u001b[0;34m\u001b[0m\u001b[0m\n\u001b[1;32m    252\u001b[0m \u001b[0;34m\u001b[0m\u001b[0m\n",
            "\u001b[0;32m/usr/local/lib/python3.10/dist-packages/PIL/Image.py\u001b[0m in \u001b[0;36mresize\u001b[0;34m(self, size, resample, box, reducing_gap)\u001b[0m\n\u001b[1;32m   2190\u001b[0m                 )\n\u001b[1;32m   2191\u001b[0m \u001b[0;34m\u001b[0m\u001b[0m\n\u001b[0;32m-> 2192\u001b[0;31m         \u001b[0;32mreturn\u001b[0m \u001b[0mself\u001b[0m\u001b[0;34m.\u001b[0m\u001b[0m_new\u001b[0m\u001b[0;34m(\u001b[0m\u001b[0mself\u001b[0m\u001b[0;34m.\u001b[0m\u001b[0mim\u001b[0m\u001b[0;34m.\u001b[0m\u001b[0mresize\u001b[0m\u001b[0;34m(\u001b[0m\u001b[0msize\u001b[0m\u001b[0;34m,\u001b[0m \u001b[0mresample\u001b[0m\u001b[0;34m,\u001b[0m \u001b[0mbox\u001b[0m\u001b[0;34m)\u001b[0m\u001b[0;34m)\u001b[0m\u001b[0;34m\u001b[0m\u001b[0;34m\u001b[0m\u001b[0m\n\u001b[0m\u001b[1;32m   2193\u001b[0m \u001b[0;34m\u001b[0m\u001b[0m\n\u001b[1;32m   2194\u001b[0m     \u001b[0;32mdef\u001b[0m \u001b[0mreduce\u001b[0m\u001b[0;34m(\u001b[0m\u001b[0mself\u001b[0m\u001b[0;34m,\u001b[0m \u001b[0mfactor\u001b[0m\u001b[0;34m,\u001b[0m \u001b[0mbox\u001b[0m\u001b[0;34m=\u001b[0m\u001b[0;32mNone\u001b[0m\u001b[0;34m)\u001b[0m\u001b[0;34m:\u001b[0m\u001b[0;34m\u001b[0m\u001b[0;34m\u001b[0m\u001b[0m\n",
            "\u001b[0;31mKeyboardInterrupt\u001b[0m: "
          ]
        }
      ]
    },
    {
      "cell_type": "code",
      "source": [
        "# 測試模型\n",
        "generator.eval()\n",
        "for i, (img, _) in enumerate(test_dataloader):\n",
        "    gray_img = img[:, :1, :, :].to(device)\n",
        "    with torch.no_grad():\n",
        "        fake_color = generator(gray_img)\n",
        "    save_image(fake_color, f\"test_results/test_{i+1}.png\", normalize=True)"
      ],
      "metadata": {
        "id": "rWB36yJa-uO0"
      },
      "execution_count": null,
      "outputs": []
    },
    {
      "cell_type": "markdown",
      "source": [
        "### 生成圖片與真實圖片對比版"
      ],
      "metadata": {
        "id": "IYxtlxBBCwac"
      }
    },
    {
      "cell_type": "code",
      "source": [
        "# 訓練模型(版本1)\n",
        "for epoch in range(num_epochs):\n",
        "    for i, (imgs, _) in enumerate(train_dataloader):\n",
        "        gray_imgs = imgs[:, :1, :, :].to(device)  # 灰階圖像\n",
        "        color_imgs = imgs.to(device)         # 彩色圖像\n",
        "\n",
        "        # 訓練生成器\n",
        "        fake_color = generator(gray_imgs)\n",
        "        g_optimizer.zero_grad()\n",
        "\n",
        "        pred_fake = discriminator(gray_imgs, fake_color)\n",
        "        loss_GAN = criterion_GAN(pred_fake, torch.ones_like(pred_fake))\n",
        "        loss_pixel = criterion_pixelwise(fake_color, color_imgs)\n",
        "\n",
        "        g_loss = loss_GAN + 100 * loss_pixel\n",
        "        g_loss.backward()\n",
        "        g_optimizer.step()\n",
        "\n",
        "        # 訓練判別器\n",
        "        d_optimizer.zero_grad()\n",
        "\n",
        "        pred_real = discriminator(gray_imgs, color_imgs)\n",
        "        loss_real = criterion_GAN(pred_real, torch.ones_like(pred_real))\n",
        "\n",
        "        pred_fake = discriminator(gray_imgs, fake_color.detach())\n",
        "        loss_fake = criterion_GAN(pred_fake, torch.zeros_like(pred_fake))\n",
        "\n",
        "        d_loss = (loss_real + loss_fake) / 2\n",
        "        d_loss.backward()\n",
        "        d_optimizer.step()\n",
        "\n",
        "        # 每隔300個batch顯示並保存生成結果和實際圖片的對比\n",
        "        if (i+1) % 100 == 0:\n",
        "            gray_imgs_repeated = gray_imgs.repeat(1, 3, 1, 1)\n",
        "            comparison = torch.cat([gray_imgs_repeated, fake_color, color_imgs], dim=3)\n",
        "\n",
        "            # 縮放圖像的數值範圍到[0, 1]\n",
        "            comparison = (comparison - comparison.min()) / (comparison.max() - comparison.min())\n",
        "\n",
        "            # 將對比圖像轉換為PIL圖像並顯示\n",
        "            comparison_grid = make_grid(comparison, nrow=4)\n",
        "            comparison_img = transforms.ToPILImage()(comparison_grid.cpu())\n",
        "            display(comparison_img)\n",
        "\n",
        "             # 在Jupyter Notebook中印出生成結果和實際圖片的對比\n",
        "            fig, ax = plt.subplots(1, 3, figsize=(15, 5))\n",
        "\n",
        "            # 縮放灰階圖像的數值範圍到[0, 1]\n",
        "            gray_img = gray_imgs_repeated[0].permute(1, 2, 0).cpu().detach().numpy()\n",
        "            gray_img = (gray_img - gray_img.min()) / (gray_img.max() - gray_img.min())\n",
        "            ax[0].imshow(gray_img)\n",
        "            ax[0].set_title(\"Input Grayscale\")\n",
        "            ax[0].axis('off')\n",
        "\n",
        "            # 縮放生成的彩色圖像的數值範圍到[0, 1]\n",
        "            fake_color_img = fake_color[0].permute(1, 2, 0).cpu().detach().numpy()\n",
        "            fake_color_img = (fake_color_img - fake_color_img.min()) / (fake_color_img.max() - fake_color_img.min())\n",
        "            ax[1].imshow(fake_color_img)\n",
        "            ax[1].set_title(\"Generated\")\n",
        "            ax[1].axis('off')\n",
        "\n",
        "            # 縮放真實的彩色圖像的數值範圍到[0, 1]\n",
        "            real_color_img = color_imgs[0].permute(1, 2, 0).cpu().detach().numpy()\n",
        "            real_color_img = (real_color_img - real_color_img.min()) / (real_color_img.max() - real_color_img.min())\n",
        "            ax[2].imshow(real_color_img)\n",
        "            ax[2].set_title(\"Real\")\n",
        "            ax[2].axis('off')\n",
        "\n",
        "            plt.suptitle(f\"Epoch [{epoch+1}/{num_epochs}] Batch [{i+1}/{len(train_dataloader)}]\")\n",
        "            plt.tight_layout()\n",
        "\n",
        "            # 將圖像轉換為numpy陣列,並將數值範圍縮放到[0, 1]\n",
        "            fig.canvas.draw()\n",
        "            img_array = np.array(fig.canvas.renderer._renderer)\n",
        "            img_array = (img_array - img_array.min()) / (img_array.max() - img_array.min())\n",
        "\n",
        "            # 保存對比圖\n",
        "            plt.imsave(f\"colorized_images/comparison_epoch_{epoch+1}_batch_{i+1}.png\", img_array)\n",
        "\n",
        "            plt.show()\n",
        "            plt.close()\n",
        "\n",
        "    print(f\"Epoch [{epoch+1}/{num_epochs}] Generator Loss: {g_loss.item():.4f}, Discriminator Loss: {d_loss.item():.4f}\")\n",
        "\n"
      ],
      "metadata": {
        "id": "WaNe2SG6bjQW"
      },
      "execution_count": null,
      "outputs": []
    },
    {
      "cell_type": "code",
      "source": [
        "# 訓練模型(版本2)\n",
        "for epoch in range(num_epochs):\n",
        "    for i, (imgs, _) in enumerate(train_dataloader):\n",
        "        gray_imgs = imgs[:, :1, :, :].to(device)  # 灰階圖像\n",
        "        color_imgs = imgs.to(device)         # 彩色圖像\n",
        "\n",
        "        # 訓練生成器\n",
        "        fake_color = generator(gray_imgs)\n",
        "        g_optimizer.zero_grad()\n",
        "\n",
        "        pred_fake = discriminator(gray_imgs, fake_color)\n",
        "        loss_GAN = criterion_GAN(pred_fake, torch.ones_like(pred_fake))\n",
        "        loss_pixel = criterion_pixelwise(fake_color, color_imgs)\n",
        "\n",
        "        g_loss = loss_GAN + 100 * loss_pixel\n",
        "        g_loss.backward()\n",
        "        g_optimizer.step()\n",
        "\n",
        "        # 訓練判別器\n",
        "        d_optimizer.zero_grad()\n",
        "\n",
        "        pred_real = discriminator(gray_imgs, color_imgs)\n",
        "        loss_real = criterion_GAN(pred_real, torch.ones_like(pred_real))\n",
        "\n",
        "        pred_fake = discriminator(gray_imgs, fake_color.detach())\n",
        "        loss_fake = criterion_GAN(pred_fake, torch.zeros_like(pred_fake))\n",
        "\n",
        "        d_loss = (loss_real + loss_fake) / 2\n",
        "        d_loss.backward()\n",
        "        d_optimizer.step()\n",
        "\n",
        "        # 每隔300個batch顯示並保存生成結果和實際圖片的對比\n",
        "        if (i+1) % 300 == 0:\n",
        "            gray_imgs_repeated = gray_imgs.repeat(1, 3, 1, 1)\n",
        "            comparison = torch.cat([gray_imgs_repeated, fake_color, color_imgs], dim=3)\n",
        "\n",
        "            # 縮放圖像的數值範圍到[0, 1]\n",
        "            comparison = (comparison - comparison.min()) / (comparison.max() - comparison.min())\n",
        "\n",
        "            # 將對比圖像轉換為PIL圖像並顯示\n",
        "            comparison_grid = make_grid(comparison, nrow=4)\n",
        "            comparison_img = transforms.ToPILImage()(comparison_grid.cpu())\n",
        "            display(comparison_img)\n",
        "\n",
        "            # 在Jupyter Notebook中印出生成結果和實際圖片的對比\n",
        "            fig, ax = plt.subplots(1, 3, figsize=(15, 5))\n",
        "\n",
        "            # 縮放灰階圖像的數值範圍到[0, 1]\n",
        "            gray_img = gray_imgs_repeated[0].permute(1, 2, 0).cpu().detach().numpy()\n",
        "            gray_img = (gray_img - gray_img.min()) / (gray_img.max() - gray_img.min())\n",
        "            ax[0].imshow(gray_img)\n",
        "            ax[0].set_title(\"Input Grayscale\")\n",
        "            ax[0].axis('off')\n",
        "\n",
        "            # 縮放生成的彩色圖像的數值範圍到[0, 1]\n",
        "            fake_color_img = fake_color[0].permute(1, 2, 0).cpu().detach().numpy()\n",
        "            fake_color_img = (fake_color_img - fake_color_img.min()) / (fake_color_img.max() - fake_color_img.min())\n",
        "            ax[1].imshow(fake_color_img)\n",
        "            ax[1].set_title(\"Generated\")\n",
        "            ax[1].axis('off')\n",
        "\n",
        "            # 縮放真實的彩色圖像的數值範圍到[0, 1]\n",
        "            real_color_img = color_imgs[0].permute(1, 2, 0).cpu().detach().numpy()\n",
        "            real_color_img = (real_color_img - real_color_img.min()) / (real_color_img.max() - real_color_img.min())\n",
        "            ax[2].imshow(real_color_img)\n",
        "            ax[2].set_title(\"Real\")\n",
        "            ax[2].axis('off')\n",
        "\n",
        "            plt.suptitle(f\"Epoch [{epoch+1}/{num_epochs}] Batch [{i+1}/{len(train_dataloader)}]\")\n",
        "            plt.tight_layout()\n",
        "\n",
        "            # 將圖像轉換為numpy陣列,並將數值範圍縮放到[0, 255]\n",
        "            fig.canvas.draw()\n",
        "            img_array = np.array(fig.canvas.renderer._renderer)\n",
        "            img_array = (img_array * 255).astype(np.uint8)\n",
        "\n",
        "            # 使用PIL保存圖像\n",
        "            pil_img = Image.fromarray(img_array)\n",
        "            pil_img.save(f\"colorized_images/comparison_epoch_{epoch+1}_batch_{i+1}.png\")\n",
        "\n",
        "            plt.show()\n",
        "            plt.close()\n",
        "\n",
        "    print(f\"Epoch [{epoch+1}/{num_epochs}] Generator Loss: {g_loss.item():.4f}, Discriminator Loss: {d_loss.item():.4f}\")\n",
        "\n"
      ],
      "metadata": {
        "colab": {
          "base_uri": "https://localhost:8080/",
          "height": 1000
        },
        "id": "9mSCQG_GC4BU",
        "outputId": "0ed12806-cd60-49bc-a9e5-119bf7f05fd7"
      },
      "execution_count": null,
      "outputs": []
    },
    {
      "cell_type": "code",
      "source": [
        "# 測試模型\n",
        "generator.eval()\n",
        "for i, (img, _) in enumerate(test_dataloader):\n",
        "    gray_img = img[:, :1, :, :].to(device)\n",
        "    with torch.no_grad():\n",
        "        fake_color = generator(gray_img)\n",
        "    save_image(fake_color, f\"test_results/test_{i+1}.png\", normalize=True)"
      ],
      "metadata": {
        "id": "9NIzgZbyDGIr"
      },
      "execution_count": null,
      "outputs": []
    },
    {
      "cell_type": "markdown",
      "source": [
        "### 黑白對比版"
      ],
      "metadata": {
        "id": "9HVTX4D4BWr0"
      }
    },
    {
      "cell_type": "code",
      "source": [
        "# 訓練模型\n",
        "for epoch in range(num_epochs):\n",
        "    for i, (imgs, _) in enumerate(train_dataloader):\n",
        "        gray_imgs = imgs[:, :1, :, :].to(device)  # 灰階圖像\n",
        "        color_imgs = imgs.to(device)              # 彩色圖像\n",
        "\n",
        "        # 訓練生成器\n",
        "        fake_color = generator(gray_imgs)\n",
        "        g_optimizer.zero_grad()\n",
        "\n",
        "        pred_fake = discriminator(gray_imgs, fake_color)\n",
        "        loss_GAN = criterion_GAN(pred_fake, torch.ones_like(pred_fake))\n",
        "        loss_pixel = criterion_pixelwise(fake_color, color_imgs)\n",
        "\n",
        "        g_loss = loss_GAN + 100 * loss_pixel\n",
        "        g_loss.backward()\n",
        "        g_optimizer.step()\n",
        "\n",
        "        # 訓練判別器\n",
        "        d_optimizer.zero_grad()\n",
        "\n",
        "        pred_real = discriminator(gray_imgs, color_imgs)\n",
        "        loss_real = criterion_GAN(pred_real, torch.ones_like(pred_real))\n",
        "\n",
        "        pred_fake = discriminator(gray_imgs, fake_color.detach())\n",
        "        loss_fake = criterion_GAN(pred_fake, torch.zeros_like(pred_fake))\n",
        "\n",
        "        d_loss = (loss_real + loss_fake) / 2\n",
        "        d_loss.backward()\n",
        "        d_optimizer.step()\n",
        "\n",
        "    print(f\"Epoch [{epoch+1}/{num_epochs}] Generator Loss: {g_loss.item():.4f}, Discriminator Loss: {d_loss.item():.4f}\")\n",
        "\n",
        "    # 保存生成的圖片\n",
        "    # 保存黑白圖和上色後的對比圖\n",
        "    comparison = torch.cat([gray_imgs, fake_color, color_imgs], dim=3)\n",
        "    save_image(comparison, f\"colorized_images/comparison_epoch_{epoch+1}.png\", nrow=4, normalize=True)"
      ],
      "metadata": {
        "id": "NNbzxseKBZCb"
      },
      "execution_count": null,
      "outputs": []
    },
    {
      "cell_type": "code",
      "source": [
        "# 測試模型\n",
        "generator.eval()\n",
        "for i, (img, _) in enumerate(test_dataloader):\n",
        "    gray_img = img[:, :1, :, :].to(device)\n",
        "    with torch.no_grad():\n",
        "        fake_color = generator(gray_img)\n",
        "    comparison = torch.cat([gray_img, fake_color, img], dim=3)\n",
        "    save_image(comparison, f\"test_results/comparison_test_{i+1}.png\", normalize=True)"
      ],
      "metadata": {
        "id": "Vfmfp7RwB3i7"
      },
      "execution_count": null,
      "outputs": []
    },
    {
      "cell_type": "code",
      "source": [],
      "metadata": {
        "id": "HzEcx-mEC1he"
      },
      "execution_count": null,
      "outputs": []
    }
  ]
}